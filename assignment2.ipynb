{
 "cells": [
  {
   "cell_type": "raw",
   "id": "44c5a661-c1f7-46da-9e6f-40dfdfb2605a",
   "metadata": {},
   "source": [
    " 1. How do you comment code in Python? What are the different types of comments?"
   ]
  },
  {
   "cell_type": "raw",
   "id": "0919d56e-c3e8-49bc-9526-4ceb3c3dab1b",
   "metadata": {},
   "source": [
    "single line comment #hello guys\n",
    "multiline comments \"\"\"hello guys\n",
    "                     how are you\"\"\""
   ]
  },
  {
   "cell_type": "raw",
   "id": "3586700f-5107-4a5c-a750-0f2dc96f02d9",
   "metadata": {},
   "source": [
    " 2.What are variables in Python? How do you declare and assign values to variables?"
   ]
  },
  {
   "cell_type": "raw",
   "id": "eab4750c-f2ee-4120-bb2b-dd4e5584ad79",
   "metadata": {},
   "source": [
    "variables are like containers which stores the values of paticular datatype\n"
   ]
  },
  {
   "cell_type": "code",
   "execution_count": 2,
   "id": "f41b140d-42cc-44dc-8f66-cab46bbbfdad",
   "metadata": {},
   "outputs": [
    {
     "data": {
      "text/plain": [
       "4"
      ]
     },
     "execution_count": 2,
     "metadata": {},
     "output_type": "execute_result"
    }
   ],
   "source": [
    "a=4   #declaration of variables\n",
    "a"
   ]
  },
  {
   "cell_type": "raw",
   "id": "a762344c-715f-43eb-9619-cc840460eafa",
   "metadata": {},
   "source": [
    "Q3. How do you convert one data type to another in Python?"
   ]
  },
  {
   "cell_type": "raw",
   "id": "588dc48c-d572-40bf-9c94-18176f69a9b5",
   "metadata": {},
   "source": [
    "we can convert the particular data type to another data type using typecasting\n",
    "the example is given as follows"
   ]
  },
  {
   "cell_type": "code",
   "execution_count": 3,
   "id": "2c6474cc-ca97-49c6-8f89-66d139791f29",
   "metadata": {},
   "outputs": [
    {
     "data": {
      "text/plain": [
       "int"
      ]
     },
     "execution_count": 3,
     "metadata": {},
     "output_type": "execute_result"
    }
   ],
   "source": [
    "a=5\n",
    "type(a)"
   ]
  },
  {
   "cell_type": "code",
   "execution_count": 7,
   "id": "91091baa-d7a6-4658-874b-789792fc9c9b",
   "metadata": {},
   "outputs": [
    {
     "name": "stdout",
     "output_type": "stream",
     "text": [
      "5.0\n"
     ]
    }
   ],
   "source": [
    "float(a)\n",
    "print(a)\n"
   ]
  },
  {
   "cell_type": "code",
   "execution_count": 8,
   "id": "82a9197e-4c41-4311-b25e-473bb176c78d",
   "metadata": {},
   "outputs": [
    {
     "data": {
      "text/plain": [
       "float"
      ]
     },
     "execution_count": 8,
     "metadata": {},
     "output_type": "execute_result"
    }
   ],
   "source": [
    "type(a)"
   ]
  },
  {
   "cell_type": "raw",
   "id": "94693173-a92f-4022-a02b-1ae388a6f1b1",
   "metadata": {},
   "source": [
    "Q4. How do you write and execute a Python script from the command line?\n",
    "answer :  $python 3 hello.py\n"
   ]
  },
  {
   "cell_type": "raw",
   "id": "eb2eec3d-c6f9-44bb-bb3c-c8b9068232f7",
   "metadata": {},
   "source": [
    "Q5. Given a list my_list = [1, 2, 3, 4, 5], write the code to slice the list and obtain the sub-list [2, 3].\n"
   ]
  },
  {
   "cell_type": "code",
   "execution_count": 10,
   "id": "0c68273d-a18d-488e-8511-9720d9e09786",
   "metadata": {},
   "outputs": [
    {
     "data": {
      "text/plain": [
       "[2, 3]"
      ]
     },
     "execution_count": 10,
     "metadata": {},
     "output_type": "execute_result"
    }
   ],
   "source": [
    "my_list=[1,2,3,4,5]\n",
    "my_list[1:3]\n"
   ]
  },
  {
   "cell_type": "raw",
   "id": "ce173bdc-d5dc-4e40-ace8-0de2516df575",
   "metadata": {},
   "source": [
    "Q6. What is a complex number in mathematics, and how is it represented in Python?\n"
   ]
  },
  {
   "cell_type": "code",
   "execution_count": 11,
   "id": "76fac23f-e52e-4137-8b34-c0813adc4b05",
   "metadata": {},
   "outputs": [
    {
     "data": {
      "text/plain": [
       "complex"
      ]
     },
     "execution_count": 11,
     "metadata": {},
     "output_type": "execute_result"
    }
   ],
   "source": [
    "a=2+5j\n",
    "type(a)"
   ]
  },
  {
   "cell_type": "raw",
   "id": "2636f10f-0fd7-413a-ac0f-a3fb7d6f8b16",
   "metadata": {},
   "source": [
    "Q7. What is the correct way to declare a variable named age and assign the value 25 to it?\n"
   ]
  },
  {
   "cell_type": "code",
   "execution_count": 12,
   "id": "f935062f-af02-457a-b13e-83f1f404aaa1",
   "metadata": {},
   "outputs": [
    {
     "data": {
      "text/plain": [
       "25"
      ]
     },
     "execution_count": 12,
     "metadata": {},
     "output_type": "execute_result"
    }
   ],
   "source": [
    "age=25\n",
    "age"
   ]
  },
  {
   "cell_type": "raw",
   "id": "bee9fa26-3033-4a57-8738-e03612c7463e",
   "metadata": {},
   "source": [
    "Q8. Declare a variable named price and assign the value 9.99 to it. What data type does this variable \n",
    "belong to?"
   ]
  },
  {
   "cell_type": "code",
   "execution_count": 13,
   "id": "fbb7cfd3-5917-401c-a56c-252b5b8ac6f0",
   "metadata": {},
   "outputs": [
    {
     "data": {
      "text/plain": [
       "9.99"
      ]
     },
     "execution_count": 13,
     "metadata": {},
     "output_type": "execute_result"
    }
   ],
   "source": [
    "b=9.99\n",
    "b"
   ]
  },
  {
   "cell_type": "code",
   "execution_count": 14,
   "id": "d91ff96e-cda3-4f3b-8d9f-35ff8e5ebef7",
   "metadata": {},
   "outputs": [
    {
     "data": {
      "text/plain": [
       "float"
      ]
     },
     "execution_count": 14,
     "metadata": {},
     "output_type": "execute_result"
    }
   ],
   "source": [
    "type(b)"
   ]
  },
  {
   "cell_type": "raw",
   "id": "5c233547-d34f-4def-bb02-8c04fed0cf84",
   "metadata": {},
   "source": [
    "Q9. Create a variable named name and assign your full name to it as a string. How would you print the \n",
    "value of this variable"
   ]
  },
  {
   "cell_type": "code",
   "execution_count": 15,
   "id": "fd80cf34-be65-4d81-83c9-615716791920",
   "metadata": {},
   "outputs": [
    {
     "name": "stdout",
     "output_type": "stream",
     "text": [
      "Daksh Raghav\n"
     ]
    }
   ],
   "source": [
    "name=\"Daksh Raghav\"\n",
    "print(name)"
   ]
  },
  {
   "cell_type": "raw",
   "id": "9c37f042-e61b-4815-b719-a73454c84fe6",
   "metadata": {},
   "source": [
    "Q10. Given the string \"Hello, World!\", extract the substring \"World\".\n"
   ]
  },
  {
   "cell_type": "code",
   "execution_count": 17,
   "id": "b749ddf3-468d-48e0-b436-f24d587ee391",
   "metadata": {},
   "outputs": [
    {
     "data": {
      "text/plain": [
       "'World'"
      ]
     },
     "execution_count": 17,
     "metadata": {},
     "output_type": "execute_result"
    }
   ],
   "source": [
    "d= \"Hello, World!\"\n",
    "d[7:12]"
   ]
  },
  {
   "cell_type": "raw",
   "id": "7b0c0590-f7fb-4d2e-8a83-df5267785a2a",
   "metadata": {},
   "source": [
    "Q11. Create a variable named \"is_student\" and assign it a boolean value indicating whether you are \n",
    "currently a student or not."
   ]
  },
  {
   "cell_type": "code",
   "execution_count": 19,
   "id": "5a3d95f7-9b4a-466c-b7f0-b315ddef613a",
   "metadata": {},
   "outputs": [
    {
     "ename": "SyntaxError",
     "evalue": "invalid syntax (364499762.py, line 1)",
     "output_type": "error",
     "traceback": [
      "\u001b[0;36m  Cell \u001b[0;32mIn[19], line 1\u001b[0;36m\u001b[0m\n\u001b[0;31m    bool is_student\u001b[0m\n\u001b[0m         ^\u001b[0m\n\u001b[0;31mSyntaxError\u001b[0m\u001b[0;31m:\u001b[0m invalid syntax\n"
     ]
    }
   ],
   "source": [
    "is_student \n",
    "bool(is_student)\n",
    "type(is\n",
    "    "
   ]
  },
  {
   "cell_type": "code",
   "execution_count": null,
   "id": "1c749b00-7737-46fe-9543-ed3dbcab9b2f",
   "metadata": {},
   "outputs": [],
   "source": []
  }
 ],
 "metadata": {
  "kernelspec": {
   "display_name": "Python 3 (ipykernel)",
   "language": "python",
   "name": "python3"
  },
  "language_info": {
   "codemirror_mode": {
    "name": "ipython",
    "version": 3
   },
   "file_extension": ".py",
   "mimetype": "text/x-python",
   "name": "python",
   "nbconvert_exporter": "python",
   "pygments_lexer": "ipython3",
   "version": "3.10.8"
  }
 },
 "nbformat": 4,
 "nbformat_minor": 5
}
