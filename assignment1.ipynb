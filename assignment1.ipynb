{
 "cells": [
  {
   "cell_type": "code",
   "execution_count": null,
   "id": "7cc50362-00f2-41b2-af09-5d73fadffa47",
   "metadata": {},
   "outputs": [],
   "source": [
    "create one variable containg following data types\n"
   ]
  },
  {
   "cell_type": "code",
   "execution_count": 1,
   "id": "0b2a9200-af61-4c9c-b3ba-5fd7fafed8a0",
   "metadata": {},
   "outputs": [
    {
     "data": {
      "text/plain": [
       "str"
      ]
     },
     "execution_count": 1,
     "metadata": {},
     "output_type": "execute_result"
    }
   ],
   "source": [
    "s=\"daksh\"  # string\n",
    "type(s)"
   ]
  },
  {
   "cell_type": "code",
   "execution_count": 2,
   "id": "1cf5201e-bc39-42ee-8195-c2080c58ed08",
   "metadata": {},
   "outputs": [
    {
     "data": {
      "text/plain": [
       "list"
      ]
     },
     "execution_count": 2,
     "metadata": {},
     "output_type": "execute_result"
    }
   ],
   "source": [
    "l=[\"hello\",1,2]\n",
    "type(l)"
   ]
  },
  {
   "cell_type": "code",
   "execution_count": 3,
   "id": "93f6c3e0-8b0a-48ab-9175-feedb2f2b237",
   "metadata": {},
   "outputs": [
    {
     "data": {
      "text/plain": [
       "float"
      ]
     },
     "execution_count": 3,
     "metadata": {},
     "output_type": "execute_result"
    }
   ],
   "source": [
    "f=23.555\n",
    "type(f)"
   ]
  },
  {
   "cell_type": "code",
   "execution_count": 4,
   "id": "fa3a7704-58fe-462b-84c8-d910ca3270f6",
   "metadata": {},
   "outputs": [
    {
     "data": {
      "text/plain": [
       "tuple"
      ]
     },
     "execution_count": 4,
     "metadata": {},
     "output_type": "execute_result"
    }
   ],
   "source": [
    "t=(2,3,\"hello\")\n",
    "type(t)"
   ]
  },
  {
   "cell_type": "code",
   "execution_count": null,
   "id": "658233a4-125e-49ec-894b-91772ef26f03",
   "metadata": {},
   "outputs": [],
   "source": [
    "what are the data types of following variables"
   ]
  },
  {
   "cell_type": "code",
   "execution_count": 5,
   "id": "a5f011e8-99aa-46bc-b1a7-33f35d151a94",
   "metadata": {},
   "outputs": [
    {
     "data": {
      "text/plain": [
       "str"
      ]
     },
     "execution_count": 5,
     "metadata": {},
     "output_type": "execute_result"
    }
   ],
   "source": [
    "var1=\" \"\n",
    "type(var1)"
   ]
  },
  {
   "cell_type": "code",
   "execution_count": 8,
   "id": "f3fd95aa-ba7d-4ab6-8037-b21437033fbc",
   "metadata": {},
   "outputs": [
    {
     "data": {
      "text/plain": [
       "str"
      ]
     },
     "execution_count": 8,
     "metadata": {},
     "output_type": "execute_result"
    }
   ],
   "source": [
    "var2='[ds,ml,python]'\n",
    "type(var2)"
   ]
  },
  {
   "cell_type": "code",
   "execution_count": 9,
   "id": "9b841291-209c-42b3-adde-8ec1b7e36cfa",
   "metadata": {},
   "outputs": [
    {
     "data": {
      "text/plain": [
       "list"
      ]
     },
     "execution_count": 9,
     "metadata": {},
     "output_type": "execute_result"
    }
   ],
   "source": [
    "var3=['ds','ml','python']\n",
    "type(var3)"
   ]
  },
  {
   "cell_type": "code",
   "execution_count": 10,
   "id": "2e858aef-3604-430d-a0c6-8ac7a449cca6",
   "metadata": {},
   "outputs": [
    {
     "data": {
      "text/plain": [
       "int"
      ]
     },
     "execution_count": 10,
     "metadata": {},
     "output_type": "execute_result"
    }
   ],
   "source": [
    "var=1\n",
    "type(var)"
   ]
  },
  {
   "cell_type": "code",
   "execution_count": null,
   "id": "434cbe5a-f989-4a4a-bc63-26a873439ca7",
   "metadata": {},
   "outputs": [],
   "source": [
    "explain the use of following operators\n"
   ]
  },
  {
   "cell_type": "code",
   "execution_count": 11,
   "id": "90b62757-1610-476f-bd8b-fef7c467f251",
   "metadata": {},
   "outputs": [],
   "source": [
    "c=2/3  #used to perform division"
   ]
  },
  {
   "cell_type": "code",
   "execution_count": 12,
   "id": "fa64d421-8914-4809-9e9f-9d08cc22058b",
   "metadata": {},
   "outputs": [
    {
     "data": {
      "text/plain": [
       "0.6666666666666666"
      ]
     },
     "execution_count": 12,
     "metadata": {},
     "output_type": "execute_result"
    }
   ],
   "source": [
    "c"
   ]
  },
  {
   "cell_type": "code",
   "execution_count": 13,
   "id": "4f4ac63a-e638-4468-b0e6-13ac0d8d1897",
   "metadata": {},
   "outputs": [
    {
     "data": {
      "text/plain": [
       "0"
      ]
     },
     "execution_count": 13,
     "metadata": {},
     "output_type": "execute_result"
    }
   ],
   "source": [
    "d=4%2  #used to find the remainder\n",
    "d"
   ]
  },
  {
   "cell_type": "code",
   "execution_count": null,
   "id": "2d9c7c15-0311-438c-b0e4-8e293e6a7b5d",
   "metadata": {},
   "outputs": [],
   "source": [
    "df=46//5  #used to find the floor value of division\n",
    "df"
   ]
  },
  {
   "cell_type": "code",
   "execution_count": null,
   "id": "7d800174-9794-45b8-b702-8b80dcd0ece2",
   "metadata": {},
   "outputs": [],
   "source": [
    "e=2**3   #used to find the exponential of any value\n",
    "e"
   ]
  },
  {
   "cell_type": "code",
   "execution_count": null,
   "id": "07eea621-99e6-4bcd-97b5-23a12d98c77e",
   "metadata": {},
   "outputs": [],
   "source": [
    " ##Create a list of length 10 of your choice containing multiple types of data. Using for loop print the \n",
    "##element and its data type."
   ]
  },
  {
   "cell_type": "code",
   "execution_count": 27,
   "id": "f85057bb-f024-491b-ad1d-b42715fd884c",
   "metadata": {},
   "outputs": [
    {
     "name": "stdout",
     "output_type": "stream",
     "text": [
      "<class 'int'>\n",
      "<class 'float'>\n",
      "<class 'str'>\n",
      "<class 'list'>\n",
      "<class 'int'>\n",
      "<class 'int'>\n",
      "<class 'str'>\n",
      "<class 'str'>\n",
      "<class 'int'>\n",
      "<class 'int'>\n"
     ]
    }
   ],
   "source": [
    "l1=[1,2.3,\"daksh\",[\"we\",2,3],6,8,\"h\",\"g\",5,4]\n",
    "for i in l1 :\n",
    "    print(type(i))\n",
    "         \n",
    "    \n",
    "        "
   ]
  },
  {
   "cell_type": "code",
   "execution_count": null,
   "id": "29622c22-229a-4183-94ba-5f8646f4be02",
   "metadata": {},
   "outputs": [],
   "source": [
    " #Using a while loop, verify if the number A is purely divisible by number B and if so then how many \n",
    "#times it can be divisible"
   ]
  },
  {
   "cell_type": "code",
   "execution_count": null,
   "id": "59ea135d-b43e-4320-b70a-8684c495f977",
   "metadata": {},
   "outputs": [],
   "source": [
    "a=int(input())\n",
    "k=int(input())\n",
    "while a%k==0:\n",
    "    c=a/k\n",
    "    print(\"it is divisible\",c,\"times\")\n",
    "    \n",
    "else:\n",
    "     print(\"not divible\")"
   ]
  },
  {
   "cell_type": "code",
   "execution_count": null,
   "id": "b528739b-f57a-4ff5-a6f8-5fd286621552",
   "metadata": {},
   "outputs": [],
   "source": [
    "\"\"\"Q6. Create a list containing 25 int type data. Using for loop and if-else condition print if the element is \n",
    "divisible by 3 or not.\"\"\""
   ]
  },
  {
   "cell_type": "code",
   "execution_count": 3,
   "id": "2029c22a-44c9-4b57-94dc-01a45530bde5",
   "metadata": {},
   "outputs": [
    {
     "name": "stdout",
     "output_type": "stream",
     "text": [
      "5 not divisible\n",
      "6 is divisible by 3\n",
      "3 is divisible by 3\n",
      "8 not divisible\n",
      "9 is divisible by 3\n",
      "24 is divisible by 3\n",
      "64 not divisible\n",
      "76 not divisible\n",
      "85 not divisible\n",
      "45 is divisible by 3\n",
      "63 is divisible by 3\n",
      "78 is divisible by 3\n",
      "94 not divisible\n",
      "873 is divisible by 3\n",
      "256 not divisible\n",
      "784 not divisible\n",
      "343 not divisible\n",
      "56 not divisible\n",
      "84 is divisible by 3\n",
      "79 not divisible\n",
      "90 is divisible by 3\n",
      "39 is divisible by 3\n",
      "845 not divisible\n",
      "744 is divisible by 3\n",
      "644 not divisible\n"
     ]
    }
   ],
   "source": [
    "li2=[5,6,3,8,9,24,64,76,85,45,63,78,94,873,256,784,343,56,84,79,90,39,845,744,644]\n",
    "for i in li2:\n",
    "    if i%3==0 :\n",
    "        print(i, \"is divisible by 3\")\n",
    "        \n",
    "    else:\n",
    "        print(i,\"not divisible\")\n",
    "        "
   ]
  },
  {
   "cell_type": "code",
   "execution_count": null,
   "id": "1bfd21a3-2c8d-44c3-8d4b-6c61339ee4b5",
   "metadata": {},
   "outputs": [],
   "source": [
    "#What do you understand about mutable and immutable data types? Give examples for both showing \n",
    "#this property"
   ]
  },
  {
   "cell_type": "code",
   "execution_count": null,
   "id": "151f4433-b495-4fbe-8ae7-9d376bfa8c45",
   "metadata": {},
   "outputs": [],
   "source": [
    "\"\"\" in mutable datatypes we can modify the values of data types such as list ,dictionaries"
   ]
  },
  {
   "cell_type": "code",
   "execution_count": 4,
   "id": "dc05af42-a9d3-44d9-bdea-96dbfbb62fbf",
   "metadata": {},
   "outputs": [
    {
     "data": {
      "text/plain": [
       "[5,\n",
       " 6,\n",
       " 3,\n",
       " 8,\n",
       " 9,\n",
       " 24,\n",
       " 64,\n",
       " 76,\n",
       " 85,\n",
       " 45,\n",
       " 63,\n",
       " 78,\n",
       " 94,\n",
       " 873,\n",
       " 256,\n",
       " 784,\n",
       " 343,\n",
       " 56,\n",
       " 84,\n",
       " 79,\n",
       " 90,\n",
       " 39,\n",
       " 845,\n",
       " 744,\n",
       " 644]"
      ]
     },
     "execution_count": 4,
     "metadata": {},
     "output_type": "execute_result"
    }
   ],
   "source": [
    "li2"
   ]
  },
  {
   "cell_type": "code",
   "execution_count": 6,
   "id": "14d26cc8-5f0c-4c4d-ae2a-3d5dcc70e26e",
   "metadata": {},
   "outputs": [],
   "source": [
    "li2[2]=\"daksh\""
   ]
  },
  {
   "cell_type": "code",
   "execution_count": 7,
   "id": "b129455a-7e12-4124-86eb-f0a819570615",
   "metadata": {},
   "outputs": [
    {
     "data": {
      "text/plain": [
       "[5,\n",
       " 6,\n",
       " 'daksh',\n",
       " 8,\n",
       " 9,\n",
       " 24,\n",
       " 64,\n",
       " 76,\n",
       " 85,\n",
       " 45,\n",
       " 63,\n",
       " 78,\n",
       " 94,\n",
       " 873,\n",
       " 256,\n",
       " 784,\n",
       " 343,\n",
       " 56,\n",
       " 84,\n",
       " 79,\n",
       " 90,\n",
       " 39,\n",
       " 845,\n",
       " 744,\n",
       " 644]"
      ]
     },
     "execution_count": 7,
     "metadata": {},
     "output_type": "execute_result"
    }
   ],
   "source": [
    "li2"
   ]
  },
  {
   "cell_type": "code",
   "execution_count": 8,
   "id": "bbcf7f73-0363-4ed5-84a0-668e1ea9c9ef",
   "metadata": {},
   "outputs": [
    {
     "ename": "TypeError",
     "evalue": "'str' object does not support item assignment",
     "output_type": "error",
     "traceback": [
      "\u001b[0;31m---------------------------------------------------------------------------\u001b[0m",
      "\u001b[0;31mTypeError\u001b[0m                                 Traceback (most recent call last)",
      "Cell \u001b[0;32mIn[8], line 2\u001b[0m\n\u001b[1;32m      1\u001b[0m si\u001b[38;5;241m=\u001b[39m\u001b[38;5;124m\"\u001b[39m\u001b[38;5;124mdaksh\u001b[39m\u001b[38;5;124m\"\u001b[39m\n\u001b[0;32m----> 2\u001b[0m \u001b[43msi\u001b[49m\u001b[43m[\u001b[49m\u001b[38;5;241;43m2\u001b[39;49m\u001b[43m]\u001b[49m\u001b[38;5;241m=\u001b[39mi\n\u001b[1;32m      3\u001b[0m si\n",
      "\u001b[0;31mTypeError\u001b[0m: 'str' object does not support item assignment"
     ]
    }
   ],
   "source": [
    "si=\"daksh\"  ##  In immutable does not allow to modify data\n",
    "si[2]=i\n",
    "si"
   ]
  },
  {
   "cell_type": "code",
   "execution_count": null,
   "id": "cab77e7d-6217-4872-95c5-796522d469e5",
   "metadata": {},
   "outputs": [],
   "source": []
  }
 ],
 "metadata": {
  "kernelspec": {
   "display_name": "Python 3 (ipykernel)",
   "language": "python",
   "name": "python3"
  },
  "language_info": {
   "codemirror_mode": {
    "name": "ipython",
    "version": 3
   },
   "file_extension": ".py",
   "mimetype": "text/x-python",
   "name": "python",
   "nbconvert_exporter": "python",
   "pygments_lexer": "ipython3",
   "version": "3.10.8"
  }
 },
 "nbformat": 4,
 "nbformat_minor": 5
}
